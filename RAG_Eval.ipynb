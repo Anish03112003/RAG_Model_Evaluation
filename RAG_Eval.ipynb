{
  "nbformat": 4,
  "nbformat_minor": 0,
  "metadata": {
    "colab": {
      "provenance": [],
      "gpuType": "T4",
      "authorship_tag": "ABX9TyNbhwaqCffjoxmLz+p1faY/",
      "include_colab_link": true
    },
    "kernelspec": {
      "name": "python3",
      "display_name": "Python 3"
    },
    "language_info": {
      "name": "python"
    },
    "accelerator": "GPU"
  },
  "cells": [
    {
      "cell_type": "markdown",
      "metadata": {
        "id": "view-in-github",
        "colab_type": "text"
      },
      "source": [
        "<a href=\"https://colab.research.google.com/github/Anish03112003/RAG_Model_Evaluation/blob/main/RAG_Eval.ipynb\" target=\"_parent\"><img src=\"https://colab.research.google.com/assets/colab-badge.svg\" alt=\"Open In Colab\"/></a>"
      ]
    },
    {
      "cell_type": "markdown",
      "source": [
        "# Introduction\n",
        "\n",
        "In this project, we aim to evaluate the quality of answers/responses in an RAG pipeline or for an LLM using both semantic and keyword similarity measures. The evaluation involves calculating scores based on different similarity metrics and combining them to derive a final score for the answers. We will leverage pre-trained language models for semantic analysis and traditional NLP techniques for keyword or token similarity.\n",
        "\n",
        "## What are we doing?\n",
        "\n",
        "We are developing a system to evaluate the quality of answers by comparing them with ground truth answers and the provided context. The evaluation involves:\n",
        "1. **Calculating semantic similarity**: Using BERT embeddings and a question generation pipeline to assess how well the answers relate to the original context and ground truth.\n",
        "2. **Calculating keyword similarity**: Using traditional NLP techniques such as Jaccard similarity, TF-IDF cosine similarity, keyword matching, and edit distance to measure the similarity between texts.\n",
        "3. **Combining scores**: Integrating both semantic and keyword similarity scores to derive a comprehensive evaluation metric. Since we need both similarities independently, we are multiplyng them both.\n",
        "\n",
        "## Why are we doing this?\n",
        "\n",
        "Evaluating the quality of answers is crucial in various applications, such as automated customer support, educational tools, and AI-driven information retrieval systems. By combining both semantic and keyword similarity measures, we can achieve a more robust and nuanced assessment of answer correctness, accounting for both contextual relevance and surface-level text similarities.\n",
        "\n",
        "## How are we doing this?\n",
        "\n",
        "We implement this evaluation system using a structured and modular approach, adhering to the SOLID principles of software design. We are using multiple metrices for calculating keyword matchinghence Keyword similarity and hybrid similarity are used interchangeably. The project is divided into several classes, each responsible for specific tasks:\n",
        "\n",
        "1. **DataHandler Class**: Manages data loading from files.\n",
        "2. **SemanticScorer Class**: Calculates semantic similarity scores using BERT embeddings and a question generation pipeline.\n",
        "3. **HybridScorer Class**: Computes hybrid similarity scores using traditional NLP techniques.\n",
        "4. **Evaluator Class**: Integrates the functionalities of the above classes to compute final evaluation scores.\n",
        "5. **Plotter Class**: Visualizes the evaluation results (optional).\n"
      ],
      "metadata": {
        "id": "Uye10vucyVbA"
      }
    },
    {
      "cell_type": "markdown",
      "source": [
        "## Prerequisites\n",
        "\n",
        "Before using these modules, ensure you have the following:\n",
        "\n",
        "- `spacy`: Install using `pip install spacy`. Also, download the English model with `python -m spacy download en`. v3.7.5\n",
        "- `transformers`: Install using `pip install transformers`. v4.41.2\n",
        "- `torch`: Install using `pip install torch`. v2.2.1\n",
        "- `sklearn`: Install using `pip install scikit-learn`.\n",
        "- `nltk`: Install using `pip install nltk`. v3.8.1\n",
        "Additionally, download NLTK data with:\n",
        "  ```python\n",
        "  import nltk\n",
        "  nltk.download('punkt')\n",
        "  nltk.download('stopwords')\n"
      ],
      "metadata": {
        "id": "9EmfF4gbyaku"
      }
    },
    {
      "cell_type": "code",
      "source": [
        "!pip install spacy\n",
        "!python -m spacy download en\n",
        "!pip install transformers\n",
        "!pip install torch\n",
        "!pip install scikit-learn\n",
        "!pip install nltk"
      ],
      "metadata": {
        "colab": {
          "base_uri": "https://localhost:8080/"
        },
        "id": "srIZKKvGwFYW",
        "outputId": "99e8d1e0-de2d-4800-cf5d-54e3225018de"
      },
      "execution_count": null,
      "outputs": [
        {
          "output_type": "stream",
          "name": "stdout",
          "text": [
            "Requirement already satisfied: spacy in /usr/local/lib/python3.10/dist-packages (3.7.5)\n",
            "Requirement already satisfied: spacy-legacy<3.1.0,>=3.0.11 in /usr/local/lib/python3.10/dist-packages (from spacy) (3.0.12)\n",
            "Requirement already satisfied: spacy-loggers<2.0.0,>=1.0.0 in /usr/local/lib/python3.10/dist-packages (from spacy) (1.0.5)\n",
            "Requirement already satisfied: murmurhash<1.1.0,>=0.28.0 in /usr/local/lib/python3.10/dist-packages (from spacy) (1.0.10)\n",
            "Requirement already satisfied: cymem<2.1.0,>=2.0.2 in /usr/local/lib/python3.10/dist-packages (from spacy) (2.0.8)\n",
            "Requirement already satisfied: preshed<3.1.0,>=3.0.2 in /usr/local/lib/python3.10/dist-packages (from spacy) (3.0.9)\n",
            "Requirement already satisfied: thinc<8.3.0,>=8.2.2 in /usr/local/lib/python3.10/dist-packages (from spacy) (8.2.5)\n",
            "Requirement already satisfied: wasabi<1.2.0,>=0.9.1 in /usr/local/lib/python3.10/dist-packages (from spacy) (1.1.3)\n",
            "Requirement already satisfied: srsly<3.0.0,>=2.4.3 in /usr/local/lib/python3.10/dist-packages (from spacy) (2.4.8)\n",
            "Requirement already satisfied: catalogue<2.1.0,>=2.0.6 in /usr/local/lib/python3.10/dist-packages (from spacy) (2.0.10)\n",
            "Requirement already satisfied: weasel<0.5.0,>=0.1.0 in /usr/local/lib/python3.10/dist-packages (from spacy) (0.4.1)\n",
            "Requirement already satisfied: typer<1.0.0,>=0.3.0 in /usr/local/lib/python3.10/dist-packages (from spacy) (0.12.5)\n",
            "Requirement already satisfied: tqdm<5.0.0,>=4.38.0 in /usr/local/lib/python3.10/dist-packages (from spacy) (4.66.6)\n",
            "Requirement already satisfied: requests<3.0.0,>=2.13.0 in /usr/local/lib/python3.10/dist-packages (from spacy) (2.32.3)\n",
            "Requirement already satisfied: pydantic!=1.8,!=1.8.1,<3.0.0,>=1.7.4 in /usr/local/lib/python3.10/dist-packages (from spacy) (2.9.2)\n",
            "Requirement already satisfied: jinja2 in /usr/local/lib/python3.10/dist-packages (from spacy) (3.1.4)\n",
            "Requirement already satisfied: setuptools in /usr/local/lib/python3.10/dist-packages (from spacy) (75.1.0)\n",
            "Requirement already satisfied: packaging>=20.0 in /usr/local/lib/python3.10/dist-packages (from spacy) (24.1)\n",
            "Requirement already satisfied: langcodes<4.0.0,>=3.2.0 in /usr/local/lib/python3.10/dist-packages (from spacy) (3.4.1)\n",
            "Requirement already satisfied: numpy>=1.19.0 in /usr/local/lib/python3.10/dist-packages (from spacy) (1.26.4)\n",
            "Requirement already satisfied: language-data>=1.2 in /usr/local/lib/python3.10/dist-packages (from langcodes<4.0.0,>=3.2.0->spacy) (1.2.0)\n",
            "Requirement already satisfied: annotated-types>=0.6.0 in /usr/local/lib/python3.10/dist-packages (from pydantic!=1.8,!=1.8.1,<3.0.0,>=1.7.4->spacy) (0.7.0)\n",
            "Requirement already satisfied: pydantic-core==2.23.4 in /usr/local/lib/python3.10/dist-packages (from pydantic!=1.8,!=1.8.1,<3.0.0,>=1.7.4->spacy) (2.23.4)\n",
            "Requirement already satisfied: typing-extensions>=4.6.1 in /usr/local/lib/python3.10/dist-packages (from pydantic!=1.8,!=1.8.1,<3.0.0,>=1.7.4->spacy) (4.12.2)\n",
            "Requirement already satisfied: charset-normalizer<4,>=2 in /usr/local/lib/python3.10/dist-packages (from requests<3.0.0,>=2.13.0->spacy) (3.4.0)\n",
            "Requirement already satisfied: idna<4,>=2.5 in /usr/local/lib/python3.10/dist-packages (from requests<3.0.0,>=2.13.0->spacy) (3.10)\n",
            "Requirement already satisfied: urllib3<3,>=1.21.1 in /usr/local/lib/python3.10/dist-packages (from requests<3.0.0,>=2.13.0->spacy) (2.2.3)\n",
            "Requirement already satisfied: certifi>=2017.4.17 in /usr/local/lib/python3.10/dist-packages (from requests<3.0.0,>=2.13.0->spacy) (2024.8.30)\n",
            "Requirement already satisfied: blis<0.8.0,>=0.7.8 in /usr/local/lib/python3.10/dist-packages (from thinc<8.3.0,>=8.2.2->spacy) (0.7.11)\n",
            "Requirement already satisfied: confection<1.0.0,>=0.0.1 in /usr/local/lib/python3.10/dist-packages (from thinc<8.3.0,>=8.2.2->spacy) (0.1.5)\n",
            "Requirement already satisfied: click>=8.0.0 in /usr/local/lib/python3.10/dist-packages (from typer<1.0.0,>=0.3.0->spacy) (8.1.7)\n",
            "Requirement already satisfied: shellingham>=1.3.0 in /usr/local/lib/python3.10/dist-packages (from typer<1.0.0,>=0.3.0->spacy) (1.5.4)\n",
            "Requirement already satisfied: rich>=10.11.0 in /usr/local/lib/python3.10/dist-packages (from typer<1.0.0,>=0.3.0->spacy) (13.9.3)\n",
            "Requirement already satisfied: cloudpathlib<1.0.0,>=0.7.0 in /usr/local/lib/python3.10/dist-packages (from weasel<0.5.0,>=0.1.0->spacy) (0.20.0)\n",
            "Requirement already satisfied: smart-open<8.0.0,>=5.2.1 in /usr/local/lib/python3.10/dist-packages (from weasel<0.5.0,>=0.1.0->spacy) (7.0.5)\n",
            "Requirement already satisfied: MarkupSafe>=2.0 in /usr/local/lib/python3.10/dist-packages (from jinja2->spacy) (3.0.2)\n",
            "Requirement already satisfied: marisa-trie>=0.7.7 in /usr/local/lib/python3.10/dist-packages (from language-data>=1.2->langcodes<4.0.0,>=3.2.0->spacy) (1.2.1)\n",
            "Requirement already satisfied: markdown-it-py>=2.2.0 in /usr/local/lib/python3.10/dist-packages (from rich>=10.11.0->typer<1.0.0,>=0.3.0->spacy) (3.0.0)\n",
            "Requirement already satisfied: pygments<3.0.0,>=2.13.0 in /usr/local/lib/python3.10/dist-packages (from rich>=10.11.0->typer<1.0.0,>=0.3.0->spacy) (2.18.0)\n",
            "Requirement already satisfied: wrapt in /usr/local/lib/python3.10/dist-packages (from smart-open<8.0.0,>=5.2.1->weasel<0.5.0,>=0.1.0->spacy) (1.16.0)\n",
            "Requirement already satisfied: mdurl~=0.1 in /usr/local/lib/python3.10/dist-packages (from markdown-it-py>=2.2.0->rich>=10.11.0->typer<1.0.0,>=0.3.0->spacy) (0.1.2)\n",
            "\u001b[38;5;3m⚠ As of spaCy v3.0, shortcuts like 'en' are deprecated. Please use the\n",
            "full pipeline package name 'en_core_web_sm' instead.\u001b[0m\n",
            "Collecting en-core-web-sm==3.7.1\n",
            "  Downloading https://github.com/explosion/spacy-models/releases/download/en_core_web_sm-3.7.1/en_core_web_sm-3.7.1-py3-none-any.whl (12.8 MB)\n",
            "\u001b[2K     \u001b[90m━━━━━━━━━━━━━━━━━━━━━━━━━━━━━━━━━━━━━━━━\u001b[0m \u001b[32m12.8/12.8 MB\u001b[0m \u001b[31m105.1 MB/s\u001b[0m eta \u001b[36m0:00:00\u001b[0m\n",
            "\u001b[?25hRequirement already satisfied: spacy<3.8.0,>=3.7.2 in /usr/local/lib/python3.10/dist-packages (from en-core-web-sm==3.7.1) (3.7.5)\n",
            "Requirement already satisfied: spacy-legacy<3.1.0,>=3.0.11 in /usr/local/lib/python3.10/dist-packages (from spacy<3.8.0,>=3.7.2->en-core-web-sm==3.7.1) (3.0.12)\n",
            "Requirement already satisfied: spacy-loggers<2.0.0,>=1.0.0 in /usr/local/lib/python3.10/dist-packages (from spacy<3.8.0,>=3.7.2->en-core-web-sm==3.7.1) (1.0.5)\n",
            "Requirement already satisfied: murmurhash<1.1.0,>=0.28.0 in /usr/local/lib/python3.10/dist-packages (from spacy<3.8.0,>=3.7.2->en-core-web-sm==3.7.1) (1.0.10)\n",
            "Requirement already satisfied: cymem<2.1.0,>=2.0.2 in /usr/local/lib/python3.10/dist-packages (from spacy<3.8.0,>=3.7.2->en-core-web-sm==3.7.1) (2.0.8)\n",
            "Requirement already satisfied: preshed<3.1.0,>=3.0.2 in /usr/local/lib/python3.10/dist-packages (from spacy<3.8.0,>=3.7.2->en-core-web-sm==3.7.1) (3.0.9)\n",
            "Requirement already satisfied: thinc<8.3.0,>=8.2.2 in /usr/local/lib/python3.10/dist-packages (from spacy<3.8.0,>=3.7.2->en-core-web-sm==3.7.1) (8.2.5)\n",
            "Requirement already satisfied: wasabi<1.2.0,>=0.9.1 in /usr/local/lib/python3.10/dist-packages (from spacy<3.8.0,>=3.7.2->en-core-web-sm==3.7.1) (1.1.3)\n",
            "Requirement already satisfied: srsly<3.0.0,>=2.4.3 in /usr/local/lib/python3.10/dist-packages (from spacy<3.8.0,>=3.7.2->en-core-web-sm==3.7.1) (2.4.8)\n",
            "Requirement already satisfied: catalogue<2.1.0,>=2.0.6 in /usr/local/lib/python3.10/dist-packages (from spacy<3.8.0,>=3.7.2->en-core-web-sm==3.7.1) (2.0.10)\n",
            "Requirement already satisfied: weasel<0.5.0,>=0.1.0 in /usr/local/lib/python3.10/dist-packages (from spacy<3.8.0,>=3.7.2->en-core-web-sm==3.7.1) (0.4.1)\n",
            "Requirement already satisfied: typer<1.0.0,>=0.3.0 in /usr/local/lib/python3.10/dist-packages (from spacy<3.8.0,>=3.7.2->en-core-web-sm==3.7.1) (0.12.5)\n",
            "Requirement already satisfied: tqdm<5.0.0,>=4.38.0 in /usr/local/lib/python3.10/dist-packages (from spacy<3.8.0,>=3.7.2->en-core-web-sm==3.7.1) (4.66.6)\n",
            "Requirement already satisfied: requests<3.0.0,>=2.13.0 in /usr/local/lib/python3.10/dist-packages (from spacy<3.8.0,>=3.7.2->en-core-web-sm==3.7.1) (2.32.3)\n",
            "Requirement already satisfied: pydantic!=1.8,!=1.8.1,<3.0.0,>=1.7.4 in /usr/local/lib/python3.10/dist-packages (from spacy<3.8.0,>=3.7.2->en-core-web-sm==3.7.1) (2.9.2)\n",
            "Requirement already satisfied: jinja2 in /usr/local/lib/python3.10/dist-packages (from spacy<3.8.0,>=3.7.2->en-core-web-sm==3.7.1) (3.1.4)\n",
            "Requirement already satisfied: setuptools in /usr/local/lib/python3.10/dist-packages (from spacy<3.8.0,>=3.7.2->en-core-web-sm==3.7.1) (75.1.0)\n",
            "Requirement already satisfied: packaging>=20.0 in /usr/local/lib/python3.10/dist-packages (from spacy<3.8.0,>=3.7.2->en-core-web-sm==3.7.1) (24.1)\n",
            "Requirement already satisfied: langcodes<4.0.0,>=3.2.0 in /usr/local/lib/python3.10/dist-packages (from spacy<3.8.0,>=3.7.2->en-core-web-sm==3.7.1) (3.4.1)\n",
            "Requirement already satisfied: numpy>=1.19.0 in /usr/local/lib/python3.10/dist-packages (from spacy<3.8.0,>=3.7.2->en-core-web-sm==3.7.1) (1.26.4)\n",
            "Requirement already satisfied: language-data>=1.2 in /usr/local/lib/python3.10/dist-packages (from langcodes<4.0.0,>=3.2.0->spacy<3.8.0,>=3.7.2->en-core-web-sm==3.7.1) (1.2.0)\n",
            "Requirement already satisfied: annotated-types>=0.6.0 in /usr/local/lib/python3.10/dist-packages (from pydantic!=1.8,!=1.8.1,<3.0.0,>=1.7.4->spacy<3.8.0,>=3.7.2->en-core-web-sm==3.7.1) (0.7.0)\n",
            "Requirement already satisfied: pydantic-core==2.23.4 in /usr/local/lib/python3.10/dist-packages (from pydantic!=1.8,!=1.8.1,<3.0.0,>=1.7.4->spacy<3.8.0,>=3.7.2->en-core-web-sm==3.7.1) (2.23.4)\n",
            "Requirement already satisfied: typing-extensions>=4.6.1 in /usr/local/lib/python3.10/dist-packages (from pydantic!=1.8,!=1.8.1,<3.0.0,>=1.7.4->spacy<3.8.0,>=3.7.2->en-core-web-sm==3.7.1) (4.12.2)\n",
            "Requirement already satisfied: charset-normalizer<4,>=2 in /usr/local/lib/python3.10/dist-packages (from requests<3.0.0,>=2.13.0->spacy<3.8.0,>=3.7.2->en-core-web-sm==3.7.1) (3.4.0)\n",
            "Requirement already satisfied: idna<4,>=2.5 in /usr/local/lib/python3.10/dist-packages (from requests<3.0.0,>=2.13.0->spacy<3.8.0,>=3.7.2->en-core-web-sm==3.7.1) (3.10)\n",
            "Requirement already satisfied: urllib3<3,>=1.21.1 in /usr/local/lib/python3.10/dist-packages (from requests<3.0.0,>=2.13.0->spacy<3.8.0,>=3.7.2->en-core-web-sm==3.7.1) (2.2.3)\n",
            "Requirement already satisfied: certifi>=2017.4.17 in /usr/local/lib/python3.10/dist-packages (from requests<3.0.0,>=2.13.0->spacy<3.8.0,>=3.7.2->en-core-web-sm==3.7.1) (2024.8.30)\n",
            "Requirement already satisfied: blis<0.8.0,>=0.7.8 in /usr/local/lib/python3.10/dist-packages (from thinc<8.3.0,>=8.2.2->spacy<3.8.0,>=3.7.2->en-core-web-sm==3.7.1) (0.7.11)\n",
            "Requirement already satisfied: confection<1.0.0,>=0.0.1 in /usr/local/lib/python3.10/dist-packages (from thinc<8.3.0,>=8.2.2->spacy<3.8.0,>=3.7.2->en-core-web-sm==3.7.1) (0.1.5)\n",
            "Requirement already satisfied: click>=8.0.0 in /usr/local/lib/python3.10/dist-packages (from typer<1.0.0,>=0.3.0->spacy<3.8.0,>=3.7.2->en-core-web-sm==3.7.1) (8.1.7)\n",
            "Requirement already satisfied: shellingham>=1.3.0 in /usr/local/lib/python3.10/dist-packages (from typer<1.0.0,>=0.3.0->spacy<3.8.0,>=3.7.2->en-core-web-sm==3.7.1) (1.5.4)\n",
            "Requirement already satisfied: rich>=10.11.0 in /usr/local/lib/python3.10/dist-packages (from typer<1.0.0,>=0.3.0->spacy<3.8.0,>=3.7.2->en-core-web-sm==3.7.1) (13.9.3)\n",
            "Requirement already satisfied: cloudpathlib<1.0.0,>=0.7.0 in /usr/local/lib/python3.10/dist-packages (from weasel<0.5.0,>=0.1.0->spacy<3.8.0,>=3.7.2->en-core-web-sm==3.7.1) (0.20.0)\n",
            "Requirement already satisfied: smart-open<8.0.0,>=5.2.1 in /usr/local/lib/python3.10/dist-packages (from weasel<0.5.0,>=0.1.0->spacy<3.8.0,>=3.7.2->en-core-web-sm==3.7.1) (7.0.5)\n",
            "Requirement already satisfied: MarkupSafe>=2.0 in /usr/local/lib/python3.10/dist-packages (from jinja2->spacy<3.8.0,>=3.7.2->en-core-web-sm==3.7.1) (3.0.2)\n",
            "Requirement already satisfied: marisa-trie>=0.7.7 in /usr/local/lib/python3.10/dist-packages (from language-data>=1.2->langcodes<4.0.0,>=3.2.0->spacy<3.8.0,>=3.7.2->en-core-web-sm==3.7.1) (1.2.1)\n",
            "Requirement already satisfied: markdown-it-py>=2.2.0 in /usr/local/lib/python3.10/dist-packages (from rich>=10.11.0->typer<1.0.0,>=0.3.0->spacy<3.8.0,>=3.7.2->en-core-web-sm==3.7.1) (3.0.0)\n",
            "Requirement already satisfied: pygments<3.0.0,>=2.13.0 in /usr/local/lib/python3.10/dist-packages (from rich>=10.11.0->typer<1.0.0,>=0.3.0->spacy<3.8.0,>=3.7.2->en-core-web-sm==3.7.1) (2.18.0)\n",
            "Requirement already satisfied: wrapt in /usr/local/lib/python3.10/dist-packages (from smart-open<8.0.0,>=5.2.1->weasel<0.5.0,>=0.1.0->spacy<3.8.0,>=3.7.2->en-core-web-sm==3.7.1) (1.16.0)\n",
            "Requirement already satisfied: mdurl~=0.1 in /usr/local/lib/python3.10/dist-packages (from markdown-it-py>=2.2.0->rich>=10.11.0->typer<1.0.0,>=0.3.0->spacy<3.8.0,>=3.7.2->en-core-web-sm==3.7.1) (0.1.2)\n",
            "\u001b[38;5;2m✔ Download and installation successful\u001b[0m\n",
            "You can now load the package via spacy.load('en_core_web_sm')\n",
            "\u001b[38;5;3m⚠ Restart to reload dependencies\u001b[0m\n",
            "If you are in a Jupyter or Colab notebook, you may need to restart Python in\n",
            "order to load all the package's dependencies. You can do this by selecting the\n",
            "'Restart kernel' or 'Restart runtime' option.\n",
            "Requirement already satisfied: transformers in /usr/local/lib/python3.10/dist-packages (4.44.2)\n",
            "Requirement already satisfied: filelock in /usr/local/lib/python3.10/dist-packages (from transformers) (3.16.1)\n",
            "Requirement already satisfied: huggingface-hub<1.0,>=0.23.2 in /usr/local/lib/python3.10/dist-packages (from transformers) (0.24.7)\n",
            "Requirement already satisfied: numpy>=1.17 in /usr/local/lib/python3.10/dist-packages (from transformers) (1.26.4)\n",
            "Requirement already satisfied: packaging>=20.0 in /usr/local/lib/python3.10/dist-packages (from transformers) (24.1)\n",
            "Requirement already satisfied: pyyaml>=5.1 in /usr/local/lib/python3.10/dist-packages (from transformers) (6.0.2)\n",
            "Requirement already satisfied: regex!=2019.12.17 in /usr/local/lib/python3.10/dist-packages (from transformers) (2024.9.11)\n",
            "Requirement already satisfied: requests in /usr/local/lib/python3.10/dist-packages (from transformers) (2.32.3)\n",
            "Requirement already satisfied: safetensors>=0.4.1 in /usr/local/lib/python3.10/dist-packages (from transformers) (0.4.5)\n",
            "Requirement already satisfied: tokenizers<0.20,>=0.19 in /usr/local/lib/python3.10/dist-packages (from transformers) (0.19.1)\n",
            "Requirement already satisfied: tqdm>=4.27 in /usr/local/lib/python3.10/dist-packages (from transformers) (4.66.6)\n",
            "Requirement already satisfied: fsspec>=2023.5.0 in /usr/local/lib/python3.10/dist-packages (from huggingface-hub<1.0,>=0.23.2->transformers) (2024.10.0)\n",
            "Requirement already satisfied: typing-extensions>=3.7.4.3 in /usr/local/lib/python3.10/dist-packages (from huggingface-hub<1.0,>=0.23.2->transformers) (4.12.2)\n",
            "Requirement already satisfied: charset-normalizer<4,>=2 in /usr/local/lib/python3.10/dist-packages (from requests->transformers) (3.4.0)\n",
            "Requirement already satisfied: idna<4,>=2.5 in /usr/local/lib/python3.10/dist-packages (from requests->transformers) (3.10)\n",
            "Requirement already satisfied: urllib3<3,>=1.21.1 in /usr/local/lib/python3.10/dist-packages (from requests->transformers) (2.2.3)\n",
            "Requirement already satisfied: certifi>=2017.4.17 in /usr/local/lib/python3.10/dist-packages (from requests->transformers) (2024.8.30)\n",
            "Requirement already satisfied: torch in /usr/local/lib/python3.10/dist-packages (2.5.0+cu121)\n",
            "Requirement already satisfied: filelock in /usr/local/lib/python3.10/dist-packages (from torch) (3.16.1)\n",
            "Requirement already satisfied: typing-extensions>=4.8.0 in /usr/local/lib/python3.10/dist-packages (from torch) (4.12.2)\n",
            "Requirement already satisfied: networkx in /usr/local/lib/python3.10/dist-packages (from torch) (3.4.2)\n",
            "Requirement already satisfied: jinja2 in /usr/local/lib/python3.10/dist-packages (from torch) (3.1.4)\n",
            "Requirement already satisfied: fsspec in /usr/local/lib/python3.10/dist-packages (from torch) (2024.10.0)\n",
            "Requirement already satisfied: sympy==1.13.1 in /usr/local/lib/python3.10/dist-packages (from torch) (1.13.1)\n",
            "Requirement already satisfied: mpmath<1.4,>=1.1.0 in /usr/local/lib/python3.10/dist-packages (from sympy==1.13.1->torch) (1.3.0)\n",
            "Requirement already satisfied: MarkupSafe>=2.0 in /usr/local/lib/python3.10/dist-packages (from jinja2->torch) (3.0.2)\n",
            "Requirement already satisfied: scikit-learn in /usr/local/lib/python3.10/dist-packages (1.5.2)\n",
            "Requirement already satisfied: numpy>=1.19.5 in /usr/local/lib/python3.10/dist-packages (from scikit-learn) (1.26.4)\n",
            "Requirement already satisfied: scipy>=1.6.0 in /usr/local/lib/python3.10/dist-packages (from scikit-learn) (1.13.1)\n",
            "Requirement already satisfied: joblib>=1.2.0 in /usr/local/lib/python3.10/dist-packages (from scikit-learn) (1.4.2)\n",
            "Requirement already satisfied: threadpoolctl>=3.1.0 in /usr/local/lib/python3.10/dist-packages (from scikit-learn) (3.5.0)\n",
            "Requirement already satisfied: nltk in /usr/local/lib/python3.10/dist-packages (3.8.1)\n",
            "Requirement already satisfied: click in /usr/local/lib/python3.10/dist-packages (from nltk) (8.1.7)\n",
            "Requirement already satisfied: joblib in /usr/local/lib/python3.10/dist-packages (from nltk) (1.4.2)\n",
            "Requirement already satisfied: regex>=2021.8.3 in /usr/local/lib/python3.10/dist-packages (from nltk) (2024.9.11)\n",
            "Requirement already satisfied: tqdm in /usr/local/lib/python3.10/dist-packages (from nltk) (4.66.6)\n"
          ]
        }
      ]
    },
    {
      "cell_type": "code",
      "execution_count": null,
      "metadata": {
        "colab": {
          "base_uri": "https://localhost:8080/"
        },
        "id": "PuDjjI2Xv7ZC",
        "outputId": "29381f26-aca1-40d1-858a-b28533532855"
      },
      "outputs": [
        {
          "output_type": "stream",
          "name": "stderr",
          "text": [
            "[nltk_data] Downloading package punkt to /root/nltk_data...\n",
            "[nltk_data]   Unzipping tokenizers/punkt.zip.\n",
            "[nltk_data] Downloading package stopwords to /root/nltk_data...\n",
            "[nltk_data]   Unzipping corpora/stopwords.zip.\n"
          ]
        },
        {
          "output_type": "execute_result",
          "data": {
            "text/plain": [
              "True"
            ]
          },
          "metadata": {},
          "execution_count": 2
        }
      ],
      "source": [
        "import nltk\n",
        "import spacy\n",
        "from transformers import BertTokenizer, BertModel, pipeline\n",
        "import torch\n",
        "from sklearn.feature_extraction.text import TfidfVectorizer\n",
        "from sklearn.metrics.pairwise import cosine_similarity\n",
        "from nltk.tokenize import word_tokenize\n",
        "from nltk.corpus import stopwords\n",
        "from nltk.metrics.distance import edit_distance\n",
        "import numpy as np\n",
        "import matplotlib.pyplot as plt\n",
        "import nltk\n",
        "\n",
        "# must download if not already downloaded\n",
        "# Download required NLTK data\n",
        "nltk.download('punkt')\n",
        "nltk.download('stopwords')"
      ]
    },
    {
      "cell_type": "markdown",
      "source": [
        "### DataHandler Class\n",
        "\n",
        "The `DataHandler` class is all about making sure we can easily read and manage our data. It handles loading the question, answer, context, and ground truth from text files. By putting this responsibility into one class, we keep our data organized and ensure that if we ever need to change how we handle data, we only have to update it in one place. This approach keeps our code clean and easy to maintain."
      ],
      "metadata": {
        "id": "fw1BjlMnyfR-"
      }
    },
    {
      "cell_type": "code",
      "source": [
        "class DataHandler:\n",
        "    def __init__(self, file_prefix):\n",
        "        self.question = self.load_file(f'question{file_prefix}.txt')\n",
        "        self.answer = self.load_file(f'answer{file_prefix}.txt')\n",
        "        self.context = self.load_file(f'context{file_prefix}.txt')\n",
        "        self.ground_truth = self.load_file(f'groundtruth{file_prefix}.txt')\n",
        "\n",
        "    def load_file(self, filename):\n",
        "        with open(filename, 'r') as file:\n",
        "            return file.read().strip()"
      ],
      "metadata": {
        "id": "QthSCwPXwVtE"
      },
      "execution_count": null,
      "outputs": []
    },
    {
      "cell_type": "markdown",
      "source": [
        "### SemanticScorer Class\n",
        "\n",
        "The `SemanticScorer` class is where the heavy lifting for understanding text happens. Using pre-trained BERT embeddings and a question generation pipeline, it calculates how relevant, correct, and contextually appropriate an answer is. This class digs deep into the meaning of the text, providing a nuanced measure of answer quality. By keeping semantic scoring in its own class, we keep our code modular and focused, making it easier to manage and extend."
      ],
      "metadata": {
        "id": "4xBPCv8Syge-"
      }
    },
    {
      "cell_type": "code",
      "source": [
        "class SemanticScorer:\n",
        "    def __init__(self):\n",
        "        self.tokenizer = BertTokenizer.from_pretrained('bert-base-uncased', clean_up_tokenization_spaces=True)\n",
        "        self.model = BertModel.from_pretrained('bert-base-uncased')\n",
        "        self.question_generator = pipeline('text2text-generation', model='t5-base', tokenizer='t5-base', device = 0)\n",
        "\n",
        "    def get_sentence_embedding(self, sentence):\n",
        "        inputs = self.tokenizer(sentence, return_tensors='pt', truncation=True, padding=True)\n",
        "        with torch.no_grad():\n",
        "            outputs = self.model(**inputs)\n",
        "        return outputs.last_hidden_state.mean(dim=1).squeeze()\n",
        "\n",
        "    def generate_questions(self, answer, num_questions=3):\n",
        "        questions = []\n",
        "        for _ in range(num_questions):\n",
        "            generated = self.question_generator(f\"generate question: {answer}\", max_length=50, num_return_sequences=1)\n",
        "            questions.append(generated[0]['generated_text'])\n",
        "        return questions\n",
        "\n",
        "    def calculate_answer_relevancy(self, question, answer, num_questions=3):\n",
        "        original_question_embedding = self.get_sentence_embedding(question)\n",
        "        generated_questions = self.generate_questions(answer, num_questions)\n",
        "\n",
        "        cosine_similarities = []\n",
        "        for gen_question in generated_questions:\n",
        "            gen_question_embedding = self.get_sentence_embedding(gen_question)\n",
        "            similarity = cosine_similarity(original_question_embedding.unsqueeze(0), gen_question_embedding.unsqueeze(0))[0][0]\n",
        "            cosine_similarities.append(similarity)\n",
        "\n",
        "        answer_relevancy = sum(cosine_similarities) / num_questions\n",
        "        return answer_relevancy\n",
        "\n",
        "    def calculate_scores(self, question, answer, context, ground_truth):\n",
        "        relevancy = self.calculate_answer_relevancy(question, answer)\n",
        "        answer_embedding = self.get_sentence_embedding(answer)\n",
        "        ground_truth_embedding = self.get_sentence_embedding(ground_truth)\n",
        "        correctness = cosine_similarity(answer_embedding.unsqueeze(0), ground_truth_embedding.unsqueeze(0))[0][0]\n",
        "\n",
        "        if context:\n",
        "            context_embedding = self.get_sentence_embedding(context)\n",
        "            meaning = cosine_similarity(answer_embedding.unsqueeze(0), context_embedding.unsqueeze(0))[0][0]\n",
        "        else:\n",
        "            meaning = 0.0\n",
        "\n",
        "        return relevancy, correctness, meaning\n",
        "\n",
        "    def calculate_final_score(self, relevancy, correctness, meaning, context):\n",
        "        if context:\n",
        "            final_score = 0.70 * correctness + 0.15 * meaning + 0.15 * relevancy\n",
        "        else:\n",
        "            final_score = 0.75 * correctness + 0.25 * relevancy\n",
        "        return final_score"
      ],
      "metadata": {
        "id": "40UrSr4twYIf"
      },
      "execution_count": null,
      "outputs": []
    },
    {
      "cell_type": "markdown",
      "source": [
        "### HybridScorer Class\n",
        "\n",
        "The `KeywordScorer` class handles the surface-level text analysis. It calculates keyword similarity using methods like Jaccard similarity, TF-IDF cosine similarity, keyword matching, and edit distance. These methods focus on the text's basic features, offering a different angle from the deep semantic analysis. By combining various similarity metrics, this class provides a comprehensive look at textual similarity. Isolating this functionality into a single class makes it easier to tweak or expand these scoring methods in the future."
      ],
      "metadata": {
        "id": "Qy6hMKtpyjGw"
      }
    },
    {
      "cell_type": "code",
      "source": [
        "class HybridScorer:\n",
        "    def __init__(self):\n",
        "        pass\n",
        "\n",
        "    def preprocess(self, text):\n",
        "        tokens = word_tokenize(text.lower())\n",
        "        stop_words = set(stopwords.words('english'))\n",
        "        filtered_tokens = [token for token in tokens if token.isalnum() and token not in stop_words]\n",
        "        return filtered_tokens\n",
        "\n",
        "    def jaccard_similarity(self, str1, str2):\n",
        "        tokens1 = set(self.preprocess(str1))\n",
        "        tokens2 = set(self.preprocess(str2))\n",
        "        intersection = tokens1.intersection(tokens2)\n",
        "        union = tokens1.union(tokens2)\n",
        "        if not union:  # Both sets are empty\n",
        "            return 1.0 if not tokens1 and not tokens2 else 0.0\n",
        "        return len(intersection) / len(union)\n",
        "\n",
        "    def cosine_similarity_tfidf(self, str1, str2):\n",
        "        vectorizer = TfidfVectorizer().fit_transform([str1, str2])\n",
        "        vectors = vectorizer.toarray()\n",
        "        return cosine_similarity(vectors)[0, 1]\n",
        "\n",
        "    def keyword_match_score(self, str1, str2):\n",
        "        tokens1 = self.preprocess(str1)\n",
        "        tokens2 = self.preprocess(str2)\n",
        "        matches = sum(1 for token in tokens1 if token in tokens2)\n",
        "        return matches / max(len(tokens1), len(tokens2))\n",
        "\n",
        "    def edit_distance_score(self, str1, str2):\n",
        "        return 1 - (edit_distance(str1, str2) / max(len(str1), len(str2)))\n",
        "\n",
        "    def calculate_hybrid_score(self, str1, str2):\n",
        "        jaccard = self.jaccard_similarity(str1, str2)\n",
        "        cosine_tfidf = self.cosine_similarity_tfidf(str1, str2)\n",
        "        keyword_match = self.keyword_match_score(str1, str2)\n",
        "        edit_dist = self.edit_distance_score(str1, str2)\n",
        "\n",
        "        hybrid_score = 0.25 * jaccard + 0.25 * cosine_tfidf + 0.25 * keyword_match + 0.25 * edit_dist\n",
        "        return hybrid_score"
      ],
      "metadata": {
        "id": "H2drgEPjwaJ8"
      },
      "execution_count": null,
      "outputs": []
    },
    {
      "cell_type": "markdown",
      "source": [
        "### Evaluator Class\n",
        "\n",
        "The `Evaluator` class is the orchestrator of the whole process. It uses the `DataHandler` to get the data and then leverages the `SemanticScorer` and `KeywordScorer` to compute the final scores. This class brings together all the different parts, calculating both semantic and keyword similarity scores to give a thorough evaluation of answer quality. By centralizing the evaluation logic here, we ensure our approach is systematic and easy to manage."
      ],
      "metadata": {
        "id": "WOjHtKz3yl4F"
      }
    },
    {
      "cell_type": "code",
      "source": [
        "class Evaluator:\n",
        "    def __init__(self, data_handler, semantic_scorer, hybrid_scorer):\n",
        "        self.data_handler = data_handler\n",
        "        self.semantic_scorer = semantic_scorer\n",
        "        self.hybrid_scorer = hybrid_scorer\n",
        "\n",
        "    def evaluate(self):\n",
        "        question = self.data_handler.question\n",
        "        answer = self.data_handler.answer\n",
        "        context = self.data_handler.context\n",
        "        ground_truth = self.data_handler.ground_truth\n",
        "\n",
        "        relevancy, correctness, meaning = self.semantic_scorer.calculate_scores(question, answer, context, ground_truth)\n",
        "        final_score_semantic = self.semantic_scorer.calculate_final_score(relevancy, correctness, meaning, context)\n",
        "\n",
        "        if context:\n",
        "            final_score_hybrid = 0.90 * self.hybrid_scorer.calculate_hybrid_score(answer, ground_truth) + 0.10 * self.hybrid_scorer.calculate_hybrid_score(answer, context)\n",
        "        else:\n",
        "            final_score_hybrid = self.hybrid_scorer.calculate_hybrid_score(answer, ground_truth)\n",
        "\n",
        "        final_score_combined = final_score_semantic * final_score_hybrid\n",
        "\n",
        "        return final_score_hybrid, final_score_semantic, final_score_combined"
      ],
      "metadata": {
        "id": "b6yc8N0SwbwC"
      },
      "execution_count": null,
      "outputs": []
    },
    {
      "cell_type": "markdown",
      "source": [
        "### Plotter Class\n",
        "\n",
        "The `Plotter` class takes care of visualizing our results. It creates graphs that show the final semantic, keyword, and combined scores for different examples, making it easy to see how well each answer performs. By putting all the plotting functionality in one class, we keep our evaluation logic uncluttered and maintain a clear separation of concerns. This way, the visualization part of our project remains flexible and easy to update."
      ],
      "metadata": {
        "id": "I0fwJ16Syomq"
      }
    },
    {
      "cell_type": "code",
      "source": [
        "class Plotter:\n",
        "    @staticmethod\n",
        "    def plot_results(results):\n",
        "        ex_labels, final_hybrid_scores, final_semantic_scores, final_combined_scores = zip(*results)\n",
        "\n",
        "        plt.figure(figsize=(12, 8))\n",
        "\n",
        "        plt.plot(ex_labels, final_semantic_scores, label='Final Semantic Score', color='blue')\n",
        "        plt.plot(ex_labels, final_hybrid_scores, label='Final Token Score', color='green')\n",
        "        plt.plot(ex_labels, final_combined_scores, label='Final Combined Score', color='red', linewidth=3)\n",
        "\n",
        "        plt.xlabel('Examples')\n",
        "        plt.ylabel('Scores')\n",
        "        plt.title('Scores of Different Examples')\n",
        "        plt.xticks(rotation=45, ha='right')\n",
        "        # plt.ylim(0, 1)  # Set y-axis limits from 0 to 1\n",
        "        plt.legend()\n",
        "        plt.show()"
      ],
      "metadata": {
        "id": "lVdTLdOswdiv"
      },
      "execution_count": null,
      "outputs": []
    },
    {
      "cell_type": "markdown",
      "source": [
        "# Tried Examples\n",
        "\n",
        "1. EX1: Focuses on the benefits of machine learning in healthcare—improving diagnostics, enabling personalized treatment, and aiding in medical imaging.\n",
        "2. EX2: Explores the differences between deep learning and traditional machine learning, highlighting how deep learning automates feature learning through neural networks.\n",
        "3. EX3: Discusses the ethical concerns of AI in decision-making, including potential biases, privacy impacts, and transparency issues.\n",
        "4. EX4: Compares supervised and unsupervised learning approaches, emphasizing the use of labeled data in supervised learning versus pattern discovery without labels in unsupervised learning.\n",
        "5. EX5: Describes the importance of data preprocessing in machine learning, covering how data cleaning and normalization enhance model accuracy and robustness."
      ],
      "metadata": {
        "id": "T7Upn9uAys2t"
      }
    },
    {
      "cell_type": "code",
      "source": [
        "# Main execution\n",
        "results = []\n",
        "for ex in ['EX1', 'EX2', 'EX3', 'EX4', 'EX5']:\n",
        "    data_handler = DataHandler(ex)\n",
        "    semantic_scorer = SemanticScorer()\n",
        "    hybrid_scorer = HybridScorer()\n",
        "    evaluator = Evaluator(data_handler, semantic_scorer, hybrid_scorer)\n",
        "    final_score_hybrid, final_score_semantic, final_score_combined = evaluator.evaluate()\n",
        "    results.append((ex, final_score_hybrid, final_score_semantic, final_score_combined))\n",
        "    print(f\"{ex} - Final Token Score: {round(final_score_hybrid,4) * 100}, Final Semantic Score: {round(final_score_semantic,4) * 100}, Final Combined Score: {round(final_score_combined,4) * 100}\")\n",
        "\n",
        "Plotter.plot_results(results)"
      ],
      "metadata": {
        "colab": {
          "base_uri": "https://localhost:8080/",
          "height": 568
        },
        "id": "TL7HKTz5xHGc",
        "outputId": "5dd0879c-bfe4-4613-9383-92e60316faec"
      },
      "execution_count": null,
      "outputs": [
        {
          "output_type": "stream",
          "name": "stderr",
          "text": [
            "/usr/local/lib/python3.10/dist-packages/transformers/tokenization_utils_base.py:1601: FutureWarning: `clean_up_tokenization_spaces` was not set. It will be set to `True` by default. This behavior will be depracted in transformers v4.45, and will be then set to `False` by default. For more details check this issue: https://github.com/huggingface/transformers/issues/31884\n",
            "  warnings.warn(\n"
          ]
        },
        {
          "output_type": "stream",
          "name": "stdout",
          "text": [
            "EX1 - Final Token Score: 21.38, Final Semantic Score: 74.33999999999999, Final Combined Score: 15.9\n"
          ]
        },
        {
          "output_type": "display_data",
          "data": {
            "text/plain": [
              "<Figure size 1200x800 with 1 Axes>"
            ],
            "image/png": "[encoded data removed]"
          },
          "metadata": {}
        }
      ]
    }
  ]
}